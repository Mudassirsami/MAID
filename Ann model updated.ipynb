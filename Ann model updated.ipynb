{
 "cells": [
  {
   "cell_type": "markdown",
   "id": "15633430",
   "metadata": {},
   "source": [
    "# ANN "
   ]
  },
  {
   "cell_type": "code",
   "execution_count": 22,
   "id": "5ed66f5b",
   "metadata": {},
   "outputs": [],
   "source": [
    "import pandas as pd\n",
    "from sklearn.ensemble import RandomForestClassifier\n",
    "from sklearn.model_selection import train_test_split\n",
    "from sklearn.metrics import accuracy_score\n",
    "from sklearn.metrics import precision_score\n",
    "from sklearn.metrics import recall_score\n",
    "from sklearn.metrics import f1_score\n",
    "from sklearn.preprocessing import OneHotEncoder\n",
    "import seaborn as sns\n",
    "import matplotlib.pyplot as plt\n",
    "from sklearn.svm import SVC\n",
    "from sklearn.neural_network import MLPClassifier\n",
    "from sklearn.preprocessing import StandardScaler\n",
    "from sklearn.metrics import classification_report, confusion_matrix"
   ]
  },
  {
   "cell_type": "code",
   "execution_count": 23,
   "id": "c9e8b92d",
   "metadata": {},
   "outputs": [
    {
     "data": {
      "text/html": [
       "<div>\n",
       "<style scoped>\n",
       "    .dataframe tbody tr th:only-of-type {\n",
       "        vertical-align: middle;\n",
       "    }\n",
       "\n",
       "    .dataframe tbody tr th {\n",
       "        vertical-align: top;\n",
       "    }\n",
       "\n",
       "    .dataframe thead th {\n",
       "        text-align: right;\n",
       "    }\n",
       "</style>\n",
       "<table border=\"1\" class=\"dataframe\">\n",
       "  <thead>\n",
       "    <tr style=\"text-align: right;\">\n",
       "      <th></th>\n",
       "      <th>ax</th>\n",
       "      <th>ay</th>\n",
       "      <th>az</th>\n",
       "      <th>gx</th>\n",
       "      <th>gy</th>\n",
       "      <th>gz</th>\n",
       "      <th>label</th>\n",
       "    </tr>\n",
       "  </thead>\n",
       "  <tbody>\n",
       "    <tr>\n",
       "      <th>0</th>\n",
       "      <td>272</td>\n",
       "      <td>13524</td>\n",
       "      <td>7848</td>\n",
       "      <td>-679</td>\n",
       "      <td>-183</td>\n",
       "      <td>-61</td>\n",
       "      <td>0</td>\n",
       "    </tr>\n",
       "    <tr>\n",
       "      <th>1</th>\n",
       "      <td>408</td>\n",
       "      <td>13384</td>\n",
       "      <td>7884</td>\n",
       "      <td>-707</td>\n",
       "      <td>-178</td>\n",
       "      <td>-38</td>\n",
       "      <td>0</td>\n",
       "    </tr>\n",
       "    <tr>\n",
       "      <th>2</th>\n",
       "      <td>404</td>\n",
       "      <td>13380</td>\n",
       "      <td>7864</td>\n",
       "      <td>-748</td>\n",
       "      <td>-168</td>\n",
       "      <td>-57</td>\n",
       "      <td>0</td>\n",
       "    </tr>\n",
       "    <tr>\n",
       "      <th>3</th>\n",
       "      <td>412</td>\n",
       "      <td>13292</td>\n",
       "      <td>7816</td>\n",
       "      <td>-714</td>\n",
       "      <td>-146</td>\n",
       "      <td>-19</td>\n",
       "      <td>0</td>\n",
       "    </tr>\n",
       "    <tr>\n",
       "      <th>4</th>\n",
       "      <td>292</td>\n",
       "      <td>13368</td>\n",
       "      <td>7892</td>\n",
       "      <td>-752</td>\n",
       "      <td>-129</td>\n",
       "      <td>-27</td>\n",
       "      <td>0</td>\n",
       "    </tr>\n",
       "    <tr>\n",
       "      <th>...</th>\n",
       "      <td>...</td>\n",
       "      <td>...</td>\n",
       "      <td>...</td>\n",
       "      <td>...</td>\n",
       "      <td>...</td>\n",
       "      <td>...</td>\n",
       "      <td>...</td>\n",
       "    </tr>\n",
       "    <tr>\n",
       "      <th>599994</th>\n",
       "      <td>2300</td>\n",
       "      <td>792</td>\n",
       "      <td>15244</td>\n",
       "      <td>-694</td>\n",
       "      <td>-187</td>\n",
       "      <td>87</td>\n",
       "      <td>3</td>\n",
       "    </tr>\n",
       "    <tr>\n",
       "      <th>599995</th>\n",
       "      <td>2304</td>\n",
       "      <td>736</td>\n",
       "      <td>15196</td>\n",
       "      <td>-666</td>\n",
       "      <td>-191</td>\n",
       "      <td>90</td>\n",
       "      <td>3</td>\n",
       "    </tr>\n",
       "    <tr>\n",
       "      <th>599996</th>\n",
       "      <td>2348</td>\n",
       "      <td>724</td>\n",
       "      <td>15180</td>\n",
       "      <td>-689</td>\n",
       "      <td>-192</td>\n",
       "      <td>81</td>\n",
       "      <td>3</td>\n",
       "    </tr>\n",
       "    <tr>\n",
       "      <th>599997</th>\n",
       "      <td>2220</td>\n",
       "      <td>684</td>\n",
       "      <td>15220</td>\n",
       "      <td>-695</td>\n",
       "      <td>-208</td>\n",
       "      <td>96</td>\n",
       "      <td>3</td>\n",
       "    </tr>\n",
       "    <tr>\n",
       "      <th>599998</th>\n",
       "      <td>2220</td>\n",
       "      <td>772</td>\n",
       "      <td>15132</td>\n",
       "      <td>-716</td>\n",
       "      <td>-220</td>\n",
       "      <td>91</td>\n",
       "      <td>3</td>\n",
       "    </tr>\n",
       "  </tbody>\n",
       "</table>\n",
       "<p>599999 rows × 7 columns</p>\n",
       "</div>"
      ],
      "text/plain": [
       "          ax     ay     az   gx   gy  gz  label\n",
       "0        272  13524   7848 -679 -183 -61      0\n",
       "1        408  13384   7884 -707 -178 -38      0\n",
       "2        404  13380   7864 -748 -168 -57      0\n",
       "3        412  13292   7816 -714 -146 -19      0\n",
       "4        292  13368   7892 -752 -129 -27      0\n",
       "...      ...    ...    ...  ...  ...  ..    ...\n",
       "599994  2300    792  15244 -694 -187  87      3\n",
       "599995  2304    736  15196 -666 -191  90      3\n",
       "599996  2348    724  15180 -689 -192  81      3\n",
       "599997  2220    684  15220 -695 -208  96      3\n",
       "599998  2220    772  15132 -716 -220  91      3\n",
       "\n",
       "[599999 rows x 7 columns]"
      ]
     },
     "execution_count": 23,
     "metadata": {},
     "output_type": "execute_result"
    }
   ],
   "source": [
    "df=pd.read_csv(\"all-raw-data.csv\")\n",
    "df"
   ]
  },
  {
   "cell_type": "markdown",
   "id": "5fa39e70",
   "metadata": {},
   "source": [
    "# Feature Column\n"
   ]
  },
  {
   "cell_type": "code",
   "execution_count": 24,
   "id": "575974ed",
   "metadata": {},
   "outputs": [
    {
     "data": {
      "text/html": [
       "<div>\n",
       "<style scoped>\n",
       "    .dataframe tbody tr th:only-of-type {\n",
       "        vertical-align: middle;\n",
       "    }\n",
       "\n",
       "    .dataframe tbody tr th {\n",
       "        vertical-align: top;\n",
       "    }\n",
       "\n",
       "    .dataframe thead th {\n",
       "        text-align: right;\n",
       "    }\n",
       "</style>\n",
       "<table border=\"1\" class=\"dataframe\">\n",
       "  <thead>\n",
       "    <tr style=\"text-align: right;\">\n",
       "      <th></th>\n",
       "      <th>ax</th>\n",
       "      <th>ay</th>\n",
       "      <th>az</th>\n",
       "      <th>gx</th>\n",
       "      <th>gy</th>\n",
       "      <th>gz</th>\n",
       "    </tr>\n",
       "  </thead>\n",
       "  <tbody>\n",
       "    <tr>\n",
       "      <th>0</th>\n",
       "      <td>272</td>\n",
       "      <td>13524</td>\n",
       "      <td>7848</td>\n",
       "      <td>-679</td>\n",
       "      <td>-183</td>\n",
       "      <td>-61</td>\n",
       "    </tr>\n",
       "    <tr>\n",
       "      <th>1</th>\n",
       "      <td>408</td>\n",
       "      <td>13384</td>\n",
       "      <td>7884</td>\n",
       "      <td>-707</td>\n",
       "      <td>-178</td>\n",
       "      <td>-38</td>\n",
       "    </tr>\n",
       "    <tr>\n",
       "      <th>2</th>\n",
       "      <td>404</td>\n",
       "      <td>13380</td>\n",
       "      <td>7864</td>\n",
       "      <td>-748</td>\n",
       "      <td>-168</td>\n",
       "      <td>-57</td>\n",
       "    </tr>\n",
       "    <tr>\n",
       "      <th>3</th>\n",
       "      <td>412</td>\n",
       "      <td>13292</td>\n",
       "      <td>7816</td>\n",
       "      <td>-714</td>\n",
       "      <td>-146</td>\n",
       "      <td>-19</td>\n",
       "    </tr>\n",
       "    <tr>\n",
       "      <th>4</th>\n",
       "      <td>292</td>\n",
       "      <td>13368</td>\n",
       "      <td>7892</td>\n",
       "      <td>-752</td>\n",
       "      <td>-129</td>\n",
       "      <td>-27</td>\n",
       "    </tr>\n",
       "    <tr>\n",
       "      <th>...</th>\n",
       "      <td>...</td>\n",
       "      <td>...</td>\n",
       "      <td>...</td>\n",
       "      <td>...</td>\n",
       "      <td>...</td>\n",
       "      <td>...</td>\n",
       "    </tr>\n",
       "    <tr>\n",
       "      <th>599994</th>\n",
       "      <td>2300</td>\n",
       "      <td>792</td>\n",
       "      <td>15244</td>\n",
       "      <td>-694</td>\n",
       "      <td>-187</td>\n",
       "      <td>87</td>\n",
       "    </tr>\n",
       "    <tr>\n",
       "      <th>599995</th>\n",
       "      <td>2304</td>\n",
       "      <td>736</td>\n",
       "      <td>15196</td>\n",
       "      <td>-666</td>\n",
       "      <td>-191</td>\n",
       "      <td>90</td>\n",
       "    </tr>\n",
       "    <tr>\n",
       "      <th>599996</th>\n",
       "      <td>2348</td>\n",
       "      <td>724</td>\n",
       "      <td>15180</td>\n",
       "      <td>-689</td>\n",
       "      <td>-192</td>\n",
       "      <td>81</td>\n",
       "    </tr>\n",
       "    <tr>\n",
       "      <th>599997</th>\n",
       "      <td>2220</td>\n",
       "      <td>684</td>\n",
       "      <td>15220</td>\n",
       "      <td>-695</td>\n",
       "      <td>-208</td>\n",
       "      <td>96</td>\n",
       "    </tr>\n",
       "    <tr>\n",
       "      <th>599998</th>\n",
       "      <td>2220</td>\n",
       "      <td>772</td>\n",
       "      <td>15132</td>\n",
       "      <td>-716</td>\n",
       "      <td>-220</td>\n",
       "      <td>91</td>\n",
       "    </tr>\n",
       "  </tbody>\n",
       "</table>\n",
       "<p>599999 rows × 6 columns</p>\n",
       "</div>"
      ],
      "text/plain": [
       "          ax     ay     az   gx   gy  gz\n",
       "0        272  13524   7848 -679 -183 -61\n",
       "1        408  13384   7884 -707 -178 -38\n",
       "2        404  13380   7864 -748 -168 -57\n",
       "3        412  13292   7816 -714 -146 -19\n",
       "4        292  13368   7892 -752 -129 -27\n",
       "...      ...    ...    ...  ...  ...  ..\n",
       "599994  2300    792  15244 -694 -187  87\n",
       "599995  2304    736  15196 -666 -191  90\n",
       "599996  2348    724  15180 -689 -192  81\n",
       "599997  2220    684  15220 -695 -208  96\n",
       "599998  2220    772  15132 -716 -220  91\n",
       "\n",
       "[599999 rows x 6 columns]"
      ]
     },
     "execution_count": 24,
     "metadata": {},
     "output_type": "execute_result"
    }
   ],
   "source": [
    "X = df.iloc[:, :-1]\n",
    "X"
   ]
  },
  {
   "cell_type": "markdown",
   "id": "cb67d688",
   "metadata": {},
   "source": [
    "# Target Column"
   ]
  },
  {
   "cell_type": "code",
   "execution_count": 25,
   "id": "1c1d0c98",
   "metadata": {},
   "outputs": [
    {
     "data": {
      "text/plain": [
       "0         0\n",
       "1         0\n",
       "2         0\n",
       "3         0\n",
       "4         0\n",
       "         ..\n",
       "599994    3\n",
       "599995    3\n",
       "599996    3\n",
       "599997    3\n",
       "599998    3\n",
       "Name: label, Length: 599999, dtype: int64"
      ]
     },
     "execution_count": 25,
     "metadata": {},
     "output_type": "execute_result"
    }
   ],
   "source": [
    "y = df.iloc[:, -1]\n",
    "y"
   ]
  },
  {
   "cell_type": "markdown",
   "id": "3d7d5a71",
   "metadata": {},
   "source": [
    "# Spliting Data"
   ]
  },
  {
   "cell_type": "code",
   "execution_count": 26,
   "id": "4eba1062",
   "metadata": {},
   "outputs": [],
   "source": [
    "X_train, X_test, y_train, y_test = train_test_split(X, y, test_size=0.2, random_state=42)"
   ]
  },
  {
   "cell_type": "code",
   "execution_count": 27,
   "id": "bf3935fd",
   "metadata": {},
   "outputs": [],
   "source": [
    "# Feature scaling\n",
    "scaler = StandardScaler()\n",
    "X_train_scaled = scaler.fit_transform(X_train)\n",
    "X_test_scaled = scaler.transform(X_test)"
   ]
  },
  {
   "cell_type": "code",
   "execution_count": 28,
   "id": "d3b17b6d",
   "metadata": {},
   "outputs": [],
   "source": [
    "# Initialize the ANN (MLP classifier)\n",
    "mlp_model = MLPClassifier(hidden_layer_sizes=(100, ), max_iter=1000)  # 1 hidden layer with 100 neurons"
   ]
  },
  {
   "cell_type": "code",
   "execution_count": 29,
   "id": "fc6cde19",
   "metadata": {},
   "outputs": [
    {
     "data": {
      "text/html": [
       "<style>#sk-container-id-2 {color: black;background-color: white;}#sk-container-id-2 pre{padding: 0;}#sk-container-id-2 div.sk-toggleable {background-color: white;}#sk-container-id-2 label.sk-toggleable__label {cursor: pointer;display: block;width: 100%;margin-bottom: 0;padding: 0.3em;box-sizing: border-box;text-align: center;}#sk-container-id-2 label.sk-toggleable__label-arrow:before {content: \"▸\";float: left;margin-right: 0.25em;color: #696969;}#sk-container-id-2 label.sk-toggleable__label-arrow:hover:before {color: black;}#sk-container-id-2 div.sk-estimator:hover label.sk-toggleable__label-arrow:before {color: black;}#sk-container-id-2 div.sk-toggleable__content {max-height: 0;max-width: 0;overflow: hidden;text-align: left;background-color: #f0f8ff;}#sk-container-id-2 div.sk-toggleable__content pre {margin: 0.2em;color: black;border-radius: 0.25em;background-color: #f0f8ff;}#sk-container-id-2 input.sk-toggleable__control:checked~div.sk-toggleable__content {max-height: 200px;max-width: 100%;overflow: auto;}#sk-container-id-2 input.sk-toggleable__control:checked~label.sk-toggleable__label-arrow:before {content: \"▾\";}#sk-container-id-2 div.sk-estimator input.sk-toggleable__control:checked~label.sk-toggleable__label {background-color: #d4ebff;}#sk-container-id-2 div.sk-label input.sk-toggleable__control:checked~label.sk-toggleable__label {background-color: #d4ebff;}#sk-container-id-2 input.sk-hidden--visually {border: 0;clip: rect(1px 1px 1px 1px);clip: rect(1px, 1px, 1px, 1px);height: 1px;margin: -1px;overflow: hidden;padding: 0;position: absolute;width: 1px;}#sk-container-id-2 div.sk-estimator {font-family: monospace;background-color: #f0f8ff;border: 1px dotted black;border-radius: 0.25em;box-sizing: border-box;margin-bottom: 0.5em;}#sk-container-id-2 div.sk-estimator:hover {background-color: #d4ebff;}#sk-container-id-2 div.sk-parallel-item::after {content: \"\";width: 100%;border-bottom: 1px solid gray;flex-grow: 1;}#sk-container-id-2 div.sk-label:hover label.sk-toggleable__label {background-color: #d4ebff;}#sk-container-id-2 div.sk-serial::before {content: \"\";position: absolute;border-left: 1px solid gray;box-sizing: border-box;top: 0;bottom: 0;left: 50%;z-index: 0;}#sk-container-id-2 div.sk-serial {display: flex;flex-direction: column;align-items: center;background-color: white;padding-right: 0.2em;padding-left: 0.2em;position: relative;}#sk-container-id-2 div.sk-item {position: relative;z-index: 1;}#sk-container-id-2 div.sk-parallel {display: flex;align-items: stretch;justify-content: center;background-color: white;position: relative;}#sk-container-id-2 div.sk-item::before, #sk-container-id-2 div.sk-parallel-item::before {content: \"\";position: absolute;border-left: 1px solid gray;box-sizing: border-box;top: 0;bottom: 0;left: 50%;z-index: -1;}#sk-container-id-2 div.sk-parallel-item {display: flex;flex-direction: column;z-index: 1;position: relative;background-color: white;}#sk-container-id-2 div.sk-parallel-item:first-child::after {align-self: flex-end;width: 50%;}#sk-container-id-2 div.sk-parallel-item:last-child::after {align-self: flex-start;width: 50%;}#sk-container-id-2 div.sk-parallel-item:only-child::after {width: 0;}#sk-container-id-2 div.sk-dashed-wrapped {border: 1px dashed gray;margin: 0 0.4em 0.5em 0.4em;box-sizing: border-box;padding-bottom: 0.4em;background-color: white;}#sk-container-id-2 div.sk-label label {font-family: monospace;font-weight: bold;display: inline-block;line-height: 1.2em;}#sk-container-id-2 div.sk-label-container {text-align: center;}#sk-container-id-2 div.sk-container {/* jupyter's `normalize.less` sets `[hidden] { display: none; }` but bootstrap.min.css set `[hidden] { display: none !important; }` so we also need the `!important` here to be able to override the default hidden behavior on the sphinx rendered scikit-learn.org. See: https://github.com/scikit-learn/scikit-learn/issues/21755 */display: inline-block !important;position: relative;}#sk-container-id-2 div.sk-text-repr-fallback {display: none;}</style><div id=\"sk-container-id-2\" class=\"sk-top-container\"><div class=\"sk-text-repr-fallback\"><pre>MLPClassifier(max_iter=1000)</pre><b>In a Jupyter environment, please rerun this cell to show the HTML representation or trust the notebook. <br />On GitHub, the HTML representation is unable to render, please try loading this page with nbviewer.org.</b></div><div class=\"sk-container\" hidden><div class=\"sk-item\"><div class=\"sk-estimator sk-toggleable\"><input class=\"sk-toggleable__control sk-hidden--visually\" id=\"sk-estimator-id-2\" type=\"checkbox\" checked><label for=\"sk-estimator-id-2\" class=\"sk-toggleable__label sk-toggleable__label-arrow\">MLPClassifier</label><div class=\"sk-toggleable__content\"><pre>MLPClassifier(max_iter=1000)</pre></div></div></div></div></div>"
      ],
      "text/plain": [
       "MLPClassifier(max_iter=1000)"
      ]
     },
     "execution_count": 29,
     "metadata": {},
     "output_type": "execute_result"
    }
   ],
   "source": [
    "# Train the ANN\n",
    "mlp_model.fit(X_train_scaled, y_train)"
   ]
  },
  {
   "cell_type": "code",
   "execution_count": 30,
   "id": "2e89deeb",
   "metadata": {},
   "outputs": [],
   "source": [
    "# Predictions\n",
    "ann_predictions = mlp_model.predict(X_test_scaled)"
   ]
  },
  {
   "cell_type": "code",
   "execution_count": 31,
   "id": "2a3e0950",
   "metadata": {},
   "outputs": [
    {
     "name": "stdout",
     "output_type": "stream",
     "text": [
      "Accuracy: 99.80583333333334 %\n"
     ]
    }
   ],
   "source": [
    "from sklearn.metrics import accuracy_score\n",
    "# Calculate accuracy\n",
    "accuracy = accuracy_score(y_test, ann_predictions)\n",
    "accuracy_percent = accuracy * 100\n",
    "print(\"Accuracy:\", accuracy_percent, \"%\")"
   ]
  },
  {
   "cell_type": "code",
   "execution_count": 32,
   "id": "5fa6a242",
   "metadata": {},
   "outputs": [
    {
     "name": "stdout",
     "output_type": "stream",
     "text": [
      "Confusion Matrix:\n",
      "[[29942     0    34     0]\n",
      " [    0 29935    76     0]\n",
      " [   36    86 29940     0]\n",
      " [    0     0     1 29950]]\n",
      "\n",
      "Classification Report:\n",
      "              precision    recall  f1-score   support\n",
      "\n",
      "           0       1.00      1.00      1.00     29976\n",
      "           1       1.00      1.00      1.00     30011\n",
      "           2       1.00      1.00      1.00     30062\n",
      "           3       1.00      1.00      1.00     29951\n",
      "\n",
      "    accuracy                           1.00    120000\n",
      "   macro avg       1.00      1.00      1.00    120000\n",
      "weighted avg       1.00      1.00      1.00    120000\n",
      "\n"
     ]
    }
   ],
   "source": [
    "# Model Evaluation\n",
    "print(\"Confusion Matrix:\")\n",
    "print(confusion_matrix(y_test, ann_predictions))\n",
    "print(\"\\nClassification Report:\")\n",
    "print(classification_report(y_test, ann_predictions))"
   ]
  },
  {
   "cell_type": "code",
   "execution_count": 33,
   "id": "d05cd04d",
   "metadata": {},
   "outputs": [],
   "source": [
    "def predict_activity_ann(model, scaler, new_data_values):\n",
    "    # Convert new data into DataFrame\n",
    "    new_data = pd.DataFrame([new_data_values], columns=['ax', 'ay', 'az', 'gx', 'gy', 'gz'])\n",
    "    \n",
    "    # Scale the new data\n",
    "    new_data_scaled = scaler.transform(new_data)\n",
    "    \n",
    "    # Make predictions using the trained model\n",
    "    predictions = model.predict(new_data_scaled)\n",
    "    \n",
    "    # Map predicted labels to activity names\n",
    "    activity_results = []\n",
    "    for prediction in predictions:\n",
    "        if prediction == 2:\n",
    "            activity_result = \"Walking\"\n",
    "        elif prediction == 3:\n",
    "            activity_result = \"Lying\"\n",
    "        else:\n",
    "            activity_result = \"Invalid\"\n",
    "        \n",
    "        activity_results.append(activity_result)\n",
    "    \n",
    "    return activity_results\n"
   ]
  },
  {
   "cell_type": "code",
   "execution_count": 35,
   "id": "8f817fbb",
   "metadata": {},
   "outputs": [
    {
     "name": "stdout",
     "output_type": "stream",
     "text": [
      "Predicted Activity: Walking\n"
     ]
    }
   ],
   "source": [
    "# New data values\n",
    "new_data_values = [-1084,20436,-3528,4676,-9147,-230]\n",
    "\n",
    "predicted_activities = predict_activity_ann(mlp_model, scaler, new_data_values)\n",
    "\n",
    "# Display predicted activities\n",
    "for activity in predicted_activities:\n",
    "    print(\"Predicted Activity: {}\".format(activity))\n",
    "\n"
   ]
  },
  {
   "cell_type": "code",
   "execution_count": null,
   "id": "180db830",
   "metadata": {},
   "outputs": [],
   "source": []
  }
 ],
 "metadata": {
  "kernelspec": {
   "display_name": "Python 3 (ipykernel)",
   "language": "python",
   "name": "python3"
  },
  "language_info": {
   "codemirror_mode": {
    "name": "ipython",
    "version": 3
   },
   "file_extension": ".py",
   "mimetype": "text/x-python",
   "name": "python",
   "nbconvert_exporter": "python",
   "pygments_lexer": "ipython3",
   "version": "3.10.9"
  }
 },
 "nbformat": 4,
 "nbformat_minor": 5
}
