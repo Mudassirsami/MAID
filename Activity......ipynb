{
 "cells": [
  {
   "cell_type": "markdown",
   "id": "5db2af5b",
   "metadata": {},
   "source": [
    "# Import Libraries"
   ]
  },
  {
   "cell_type": "code",
   "execution_count": 1,
   "id": "e774ac7c",
   "metadata": {},
   "outputs": [],
   "source": [
    "import pandas as pd\n",
    "from sklearn.ensemble import RandomForestClassifier\n",
    "from sklearn.model_selection import train_test_split\n",
    "from sklearn.metrics import accuracy_score\n",
    "from sklearn.metrics import precision_score\n",
    "from sklearn.metrics import recall_score\n",
    "from sklearn.metrics import f1_score\n",
    "from sklearn.preprocessing import OneHotEncoder\n",
    "from sklearn.metrics import confusion_matrix\n",
    "import seaborn as sns\n",
    "import matplotlib.pyplot as plt"
   ]
  },
  {
   "cell_type": "markdown",
   "id": "321e3079",
   "metadata": {},
   "source": [
    "# Data Preprocessing"
   ]
  },
  {
   "cell_type": "code",
   "execution_count": 2,
   "id": "7536338f",
   "metadata": {},
   "outputs": [
    {
     "data": {
      "text/html": [
       "<div>\n",
       "<style scoped>\n",
       "    .dataframe tbody tr th:only-of-type {\n",
       "        vertical-align: middle;\n",
       "    }\n",
       "\n",
       "    .dataframe tbody tr th {\n",
       "        vertical-align: top;\n",
       "    }\n",
       "\n",
       "    .dataframe thead th {\n",
       "        text-align: right;\n",
       "    }\n",
       "</style>\n",
       "<table border=\"1\" class=\"dataframe\">\n",
       "  <thead>\n",
       "    <tr style=\"text-align: right;\">\n",
       "      <th></th>\n",
       "      <th>ax</th>\n",
       "      <th>ay</th>\n",
       "      <th>az</th>\n",
       "      <th>gx</th>\n",
       "      <th>gy</th>\n",
       "      <th>gz</th>\n",
       "      <th>label</th>\n",
       "    </tr>\n",
       "  </thead>\n",
       "  <tbody>\n",
       "    <tr>\n",
       "      <th>0</th>\n",
       "      <td>272</td>\n",
       "      <td>13524</td>\n",
       "      <td>7848</td>\n",
       "      <td>-679</td>\n",
       "      <td>-183</td>\n",
       "      <td>-61</td>\n",
       "      <td>0</td>\n",
       "    </tr>\n",
       "    <tr>\n",
       "      <th>1</th>\n",
       "      <td>408</td>\n",
       "      <td>13384</td>\n",
       "      <td>7884</td>\n",
       "      <td>-707</td>\n",
       "      <td>-178</td>\n",
       "      <td>-38</td>\n",
       "      <td>0</td>\n",
       "    </tr>\n",
       "    <tr>\n",
       "      <th>2</th>\n",
       "      <td>404</td>\n",
       "      <td>13380</td>\n",
       "      <td>7864</td>\n",
       "      <td>-748</td>\n",
       "      <td>-168</td>\n",
       "      <td>-57</td>\n",
       "      <td>0</td>\n",
       "    </tr>\n",
       "    <tr>\n",
       "      <th>3</th>\n",
       "      <td>412</td>\n",
       "      <td>13292</td>\n",
       "      <td>7816</td>\n",
       "      <td>-714</td>\n",
       "      <td>-146</td>\n",
       "      <td>-19</td>\n",
       "      <td>0</td>\n",
       "    </tr>\n",
       "    <tr>\n",
       "      <th>4</th>\n",
       "      <td>292</td>\n",
       "      <td>13368</td>\n",
       "      <td>7892</td>\n",
       "      <td>-752</td>\n",
       "      <td>-129</td>\n",
       "      <td>-27</td>\n",
       "      <td>0</td>\n",
       "    </tr>\n",
       "    <tr>\n",
       "      <th>...</th>\n",
       "      <td>...</td>\n",
       "      <td>...</td>\n",
       "      <td>...</td>\n",
       "      <td>...</td>\n",
       "      <td>...</td>\n",
       "      <td>...</td>\n",
       "      <td>...</td>\n",
       "    </tr>\n",
       "    <tr>\n",
       "      <th>599994</th>\n",
       "      <td>2300</td>\n",
       "      <td>792</td>\n",
       "      <td>15244</td>\n",
       "      <td>-694</td>\n",
       "      <td>-187</td>\n",
       "      <td>87</td>\n",
       "      <td>3</td>\n",
       "    </tr>\n",
       "    <tr>\n",
       "      <th>599995</th>\n",
       "      <td>2304</td>\n",
       "      <td>736</td>\n",
       "      <td>15196</td>\n",
       "      <td>-666</td>\n",
       "      <td>-191</td>\n",
       "      <td>90</td>\n",
       "      <td>3</td>\n",
       "    </tr>\n",
       "    <tr>\n",
       "      <th>599996</th>\n",
       "      <td>2348</td>\n",
       "      <td>724</td>\n",
       "      <td>15180</td>\n",
       "      <td>-689</td>\n",
       "      <td>-192</td>\n",
       "      <td>81</td>\n",
       "      <td>3</td>\n",
       "    </tr>\n",
       "    <tr>\n",
       "      <th>599997</th>\n",
       "      <td>2220</td>\n",
       "      <td>684</td>\n",
       "      <td>15220</td>\n",
       "      <td>-695</td>\n",
       "      <td>-208</td>\n",
       "      <td>96</td>\n",
       "      <td>3</td>\n",
       "    </tr>\n",
       "    <tr>\n",
       "      <th>599998</th>\n",
       "      <td>2220</td>\n",
       "      <td>772</td>\n",
       "      <td>15132</td>\n",
       "      <td>-716</td>\n",
       "      <td>-220</td>\n",
       "      <td>91</td>\n",
       "      <td>3</td>\n",
       "    </tr>\n",
       "  </tbody>\n",
       "</table>\n",
       "<p>599999 rows × 7 columns</p>\n",
       "</div>"
      ],
      "text/plain": [
       "          ax     ay     az   gx   gy  gz  label\n",
       "0        272  13524   7848 -679 -183 -61      0\n",
       "1        408  13384   7884 -707 -178 -38      0\n",
       "2        404  13380   7864 -748 -168 -57      0\n",
       "3        412  13292   7816 -714 -146 -19      0\n",
       "4        292  13368   7892 -752 -129 -27      0\n",
       "...      ...    ...    ...  ...  ...  ..    ...\n",
       "599994  2300    792  15244 -694 -187  87      3\n",
       "599995  2304    736  15196 -666 -191  90      3\n",
       "599996  2348    724  15180 -689 -192  81      3\n",
       "599997  2220    684  15220 -695 -208  96      3\n",
       "599998  2220    772  15132 -716 -220  91      3\n",
       "\n",
       "[599999 rows x 7 columns]"
      ]
     },
     "execution_count": 2,
     "metadata": {},
     "output_type": "execute_result"
    }
   ],
   "source": [
    "df=pd.read_csv(\".csv\")\n",
    "df"
   ]
  },
  {
   "cell_type": "code",
   "execution_count": 3,
   "id": "2b44a01b",
   "metadata": {},
   "outputs": [
    {
     "data": {
      "text/plain": [
       "(599999, 7)"
      ]
     },
     "execution_count": 3,
     "metadata": {},
     "output_type": "execute_result"
    }
   ],
   "source": [
    "df.shape"
   ]
  },
  {
   "cell_type": "code",
   "execution_count": 4,
   "id": "47968039",
   "metadata": {},
   "outputs": [
    {
     "data": {
      "text/plain": [
       "Index(['ax', 'ay', 'az', 'gx', 'gy', 'gz', 'label'], dtype='object')"
      ]
     },
     "execution_count": 4,
     "metadata": {},
     "output_type": "execute_result"
    }
   ],
   "source": [
    "df.columns"
   ]
  },
  {
   "cell_type": "code",
   "execution_count": 5,
   "id": "194630fb",
   "metadata": {},
   "outputs": [
    {
     "data": {
      "text/html": [
       "<div>\n",
       "<style scoped>\n",
       "    .dataframe tbody tr th:only-of-type {\n",
       "        vertical-align: middle;\n",
       "    }\n",
       "\n",
       "    .dataframe tbody tr th {\n",
       "        vertical-align: top;\n",
       "    }\n",
       "\n",
       "    .dataframe thead th {\n",
       "        text-align: right;\n",
       "    }\n",
       "</style>\n",
       "<table border=\"1\" class=\"dataframe\">\n",
       "  <thead>\n",
       "    <tr style=\"text-align: right;\">\n",
       "      <th></th>\n",
       "      <th>ax</th>\n",
       "      <th>ay</th>\n",
       "      <th>az</th>\n",
       "      <th>gx</th>\n",
       "      <th>gy</th>\n",
       "      <th>gz</th>\n",
       "      <th>label</th>\n",
       "    </tr>\n",
       "  </thead>\n",
       "  <tbody>\n",
       "    <tr>\n",
       "      <th>0</th>\n",
       "      <td>False</td>\n",
       "      <td>False</td>\n",
       "      <td>False</td>\n",
       "      <td>False</td>\n",
       "      <td>False</td>\n",
       "      <td>False</td>\n",
       "      <td>False</td>\n",
       "    </tr>\n",
       "    <tr>\n",
       "      <th>1</th>\n",
       "      <td>False</td>\n",
       "      <td>False</td>\n",
       "      <td>False</td>\n",
       "      <td>False</td>\n",
       "      <td>False</td>\n",
       "      <td>False</td>\n",
       "      <td>False</td>\n",
       "    </tr>\n",
       "    <tr>\n",
       "      <th>2</th>\n",
       "      <td>False</td>\n",
       "      <td>False</td>\n",
       "      <td>False</td>\n",
       "      <td>False</td>\n",
       "      <td>False</td>\n",
       "      <td>False</td>\n",
       "      <td>False</td>\n",
       "    </tr>\n",
       "    <tr>\n",
       "      <th>3</th>\n",
       "      <td>False</td>\n",
       "      <td>False</td>\n",
       "      <td>False</td>\n",
       "      <td>False</td>\n",
       "      <td>False</td>\n",
       "      <td>False</td>\n",
       "      <td>False</td>\n",
       "    </tr>\n",
       "    <tr>\n",
       "      <th>4</th>\n",
       "      <td>False</td>\n",
       "      <td>False</td>\n",
       "      <td>False</td>\n",
       "      <td>False</td>\n",
       "      <td>False</td>\n",
       "      <td>False</td>\n",
       "      <td>False</td>\n",
       "    </tr>\n",
       "    <tr>\n",
       "      <th>...</th>\n",
       "      <td>...</td>\n",
       "      <td>...</td>\n",
       "      <td>...</td>\n",
       "      <td>...</td>\n",
       "      <td>...</td>\n",
       "      <td>...</td>\n",
       "      <td>...</td>\n",
       "    </tr>\n",
       "    <tr>\n",
       "      <th>599994</th>\n",
       "      <td>False</td>\n",
       "      <td>False</td>\n",
       "      <td>False</td>\n",
       "      <td>False</td>\n",
       "      <td>False</td>\n",
       "      <td>False</td>\n",
       "      <td>False</td>\n",
       "    </tr>\n",
       "    <tr>\n",
       "      <th>599995</th>\n",
       "      <td>False</td>\n",
       "      <td>False</td>\n",
       "      <td>False</td>\n",
       "      <td>False</td>\n",
       "      <td>False</td>\n",
       "      <td>False</td>\n",
       "      <td>False</td>\n",
       "    </tr>\n",
       "    <tr>\n",
       "      <th>599996</th>\n",
       "      <td>False</td>\n",
       "      <td>False</td>\n",
       "      <td>False</td>\n",
       "      <td>False</td>\n",
       "      <td>False</td>\n",
       "      <td>False</td>\n",
       "      <td>False</td>\n",
       "    </tr>\n",
       "    <tr>\n",
       "      <th>599997</th>\n",
       "      <td>False</td>\n",
       "      <td>False</td>\n",
       "      <td>False</td>\n",
       "      <td>False</td>\n",
       "      <td>False</td>\n",
       "      <td>False</td>\n",
       "      <td>False</td>\n",
       "    </tr>\n",
       "    <tr>\n",
       "      <th>599998</th>\n",
       "      <td>False</td>\n",
       "      <td>False</td>\n",
       "      <td>False</td>\n",
       "      <td>False</td>\n",
       "      <td>False</td>\n",
       "      <td>False</td>\n",
       "      <td>False</td>\n",
       "    </tr>\n",
       "  </tbody>\n",
       "</table>\n",
       "<p>599999 rows × 7 columns</p>\n",
       "</div>"
      ],
      "text/plain": [
       "           ax     ay     az     gx     gy     gz  label\n",
       "0       False  False  False  False  False  False  False\n",
       "1       False  False  False  False  False  False  False\n",
       "2       False  False  False  False  False  False  False\n",
       "3       False  False  False  False  False  False  False\n",
       "4       False  False  False  False  False  False  False\n",
       "...       ...    ...    ...    ...    ...    ...    ...\n",
       "599994  False  False  False  False  False  False  False\n",
       "599995  False  False  False  False  False  False  False\n",
       "599996  False  False  False  False  False  False  False\n",
       "599997  False  False  False  False  False  False  False\n",
       "599998  False  False  False  False  False  False  False\n",
       "\n",
       "[599999 rows x 7 columns]"
      ]
     },
     "execution_count": 5,
     "metadata": {},
     "output_type": "execute_result"
    }
   ],
   "source": [
    "df.isnull()"
   ]
  },
  {
   "cell_type": "code",
   "execution_count": 6,
   "id": "ce91f228",
   "metadata": {},
   "outputs": [
    {
     "data": {
      "text/plain": [
       "0"
      ]
     },
     "execution_count": 6,
     "metadata": {},
     "output_type": "execute_result"
    }
   ],
   "source": [
    "df.isnull().sum().sum()"
   ]
  },
  {
   "cell_type": "markdown",
   "id": "2929d1df",
   "metadata": {},
   "source": [
    "# Selecting Feature columns"
   ]
  },
  {
   "cell_type": "code",
   "execution_count": 7,
   "id": "36bf9037",
   "metadata": {},
   "outputs": [
    {
     "data": {
      "text/html": [
       "<div>\n",
       "<style scoped>\n",
       "    .dataframe tbody tr th:only-of-type {\n",
       "        vertical-align: middle;\n",
       "    }\n",
       "\n",
       "    .dataframe tbody tr th {\n",
       "        vertical-align: top;\n",
       "    }\n",
       "\n",
       "    .dataframe thead th {\n",
       "        text-align: right;\n",
       "    }\n",
       "</style>\n",
       "<table border=\"1\" class=\"dataframe\">\n",
       "  <thead>\n",
       "    <tr style=\"text-align: right;\">\n",
       "      <th></th>\n",
       "      <th>ax</th>\n",
       "      <th>ay</th>\n",
       "      <th>az</th>\n",
       "      <th>gx</th>\n",
       "      <th>gy</th>\n",
       "      <th>gz</th>\n",
       "    </tr>\n",
       "  </thead>\n",
       "  <tbody>\n",
       "    <tr>\n",
       "      <th>0</th>\n",
       "      <td>272</td>\n",
       "      <td>13524</td>\n",
       "      <td>7848</td>\n",
       "      <td>-679</td>\n",
       "      <td>-183</td>\n",
       "      <td>-61</td>\n",
       "    </tr>\n",
       "    <tr>\n",
       "      <th>1</th>\n",
       "      <td>408</td>\n",
       "      <td>13384</td>\n",
       "      <td>7884</td>\n",
       "      <td>-707</td>\n",
       "      <td>-178</td>\n",
       "      <td>-38</td>\n",
       "    </tr>\n",
       "    <tr>\n",
       "      <th>2</th>\n",
       "      <td>404</td>\n",
       "      <td>13380</td>\n",
       "      <td>7864</td>\n",
       "      <td>-748</td>\n",
       "      <td>-168</td>\n",
       "      <td>-57</td>\n",
       "    </tr>\n",
       "    <tr>\n",
       "      <th>3</th>\n",
       "      <td>412</td>\n",
       "      <td>13292</td>\n",
       "      <td>7816</td>\n",
       "      <td>-714</td>\n",
       "      <td>-146</td>\n",
       "      <td>-19</td>\n",
       "    </tr>\n",
       "    <tr>\n",
       "      <th>4</th>\n",
       "      <td>292</td>\n",
       "      <td>13368</td>\n",
       "      <td>7892</td>\n",
       "      <td>-752</td>\n",
       "      <td>-129</td>\n",
       "      <td>-27</td>\n",
       "    </tr>\n",
       "    <tr>\n",
       "      <th>...</th>\n",
       "      <td>...</td>\n",
       "      <td>...</td>\n",
       "      <td>...</td>\n",
       "      <td>...</td>\n",
       "      <td>...</td>\n",
       "      <td>...</td>\n",
       "    </tr>\n",
       "    <tr>\n",
       "      <th>599994</th>\n",
       "      <td>2300</td>\n",
       "      <td>792</td>\n",
       "      <td>15244</td>\n",
       "      <td>-694</td>\n",
       "      <td>-187</td>\n",
       "      <td>87</td>\n",
       "    </tr>\n",
       "    <tr>\n",
       "      <th>599995</th>\n",
       "      <td>2304</td>\n",
       "      <td>736</td>\n",
       "      <td>15196</td>\n",
       "      <td>-666</td>\n",
       "      <td>-191</td>\n",
       "      <td>90</td>\n",
       "    </tr>\n",
       "    <tr>\n",
       "      <th>599996</th>\n",
       "      <td>2348</td>\n",
       "      <td>724</td>\n",
       "      <td>15180</td>\n",
       "      <td>-689</td>\n",
       "      <td>-192</td>\n",
       "      <td>81</td>\n",
       "    </tr>\n",
       "    <tr>\n",
       "      <th>599997</th>\n",
       "      <td>2220</td>\n",
       "      <td>684</td>\n",
       "      <td>15220</td>\n",
       "      <td>-695</td>\n",
       "      <td>-208</td>\n",
       "      <td>96</td>\n",
       "    </tr>\n",
       "    <tr>\n",
       "      <th>599998</th>\n",
       "      <td>2220</td>\n",
       "      <td>772</td>\n",
       "      <td>15132</td>\n",
       "      <td>-716</td>\n",
       "      <td>-220</td>\n",
       "      <td>91</td>\n",
       "    </tr>\n",
       "  </tbody>\n",
       "</table>\n",
       "<p>599999 rows × 6 columns</p>\n",
       "</div>"
      ],
      "text/plain": [
       "          ax     ay     az   gx   gy  gz\n",
       "0        272  13524   7848 -679 -183 -61\n",
       "1        408  13384   7884 -707 -178 -38\n",
       "2        404  13380   7864 -748 -168 -57\n",
       "3        412  13292   7816 -714 -146 -19\n",
       "4        292  13368   7892 -752 -129 -27\n",
       "...      ...    ...    ...  ...  ...  ..\n",
       "599994  2300    792  15244 -694 -187  87\n",
       "599995  2304    736  15196 -666 -191  90\n",
       "599996  2348    724  15180 -689 -192  81\n",
       "599997  2220    684  15220 -695 -208  96\n",
       "599998  2220    772  15132 -716 -220  91\n",
       "\n",
       "[599999 rows x 6 columns]"
      ]
     },
     "execution_count": 7,
     "metadata": {},
     "output_type": "execute_result"
    }
   ],
   "source": [
    "X = df.iloc[:, :-1]\n",
    "X"
   ]
  },
  {
   "cell_type": "markdown",
   "id": "f1056884",
   "metadata": {},
   "source": [
    "# Target Column"
   ]
  },
  {
   "cell_type": "code",
   "execution_count": 8,
   "id": "7cfd8425",
   "metadata": {},
   "outputs": [
    {
     "data": {
      "text/plain": [
       "0         0\n",
       "1         0\n",
       "2         0\n",
       "3         0\n",
       "4         0\n",
       "         ..\n",
       "599994    3\n",
       "599995    3\n",
       "599996    3\n",
       "599997    3\n",
       "599998    3\n",
       "Name: label, Length: 599999, dtype: int64"
      ]
     },
     "execution_count": 8,
     "metadata": {},
     "output_type": "execute_result"
    }
   ],
   "source": [
    "y = df.iloc[:, -1]\n",
    "y"
   ]
  },
  {
   "cell_type": "code",
   "execution_count": 9,
   "id": "7286c73c",
   "metadata": {},
   "outputs": [],
   "source": [
    "\n",
    "# Split the dataset into training and testing sets\n",
    "X_train, X_test, y_train, y_test = train_test_split(X, y, test_size=0.2, random_state=42)\n"
   ]
  },
  {
   "cell_type": "code",
   "execution_count": 10,
   "id": "4ef3bab5",
   "metadata": {},
   "outputs": [],
   "source": [
    "# Initialize the Random Forest model\n",
    "rf_model = RandomForestClassifier(n_estimators=100, random_state=42)\n"
   ]
  },
  {
   "cell_type": "markdown",
   "id": "0a08fbf9",
   "metadata": {},
   "source": [
    "# Model Training"
   ]
  },
  {
   "cell_type": "code",
   "execution_count": 11,
   "id": "5c241eee",
   "metadata": {},
   "outputs": [],
   "source": [
    "\n",
    "# Train the model\n",
    "rf_model.fit(X_train, y_train)\n",
    "\n",
    "# Make predictions on the test set\n",
    "predictions = rf_model.predict(X_test)\n"
   ]
  },
  {
   "cell_type": "markdown",
   "id": "d92d734d",
   "metadata": {},
   "source": [
    "# Accuracy"
   ]
  },
  {
   "cell_type": "code",
   "execution_count": 12,
   "id": "3a7c779b",
   "metadata": {},
   "outputs": [
    {
     "name": "stdout",
     "output_type": "stream",
     "text": [
      "Accuracy: 99.86%\n"
     ]
    }
   ],
   "source": [
    "\n",
    "# Evaluate the model\n",
    "accuracy = accuracy_score(y_test, predictions)\n",
    "print(\"Accuracy: {:.2f}%\".format(accuracy * 100))"
   ]
  },
  {
   "cell_type": "markdown",
   "id": "085dd1e1",
   "metadata": {},
   "source": [
    "# F1-Score "
   ]
  },
  {
   "cell_type": "code",
   "execution_count": 13,
   "id": "5fb09618",
   "metadata": {},
   "outputs": [
    {
     "name": "stdout",
     "output_type": "stream",
     "text": [
      "F1 Score: 1.00\n"
     ]
    }
   ],
   "source": [
    "\n",
    "f1 = f1_score(y_test, predictions, average='weighted')\n",
    "print(\"F1 Score: {:.2f}\".format(f1))\n"
   ]
  },
  {
   "cell_type": "markdown",
   "id": "5de9159a",
   "metadata": {},
   "source": [
    "# Recall:"
   ]
  },
  {
   "cell_type": "code",
   "execution_count": 14,
   "id": "a0239050",
   "metadata": {},
   "outputs": [
    {
     "name": "stdout",
     "output_type": "stream",
     "text": [
      "Recall: 1.00\n"
     ]
    }
   ],
   "source": [
    "\n",
    "recall = recall_score(y_test, predictions, average='weighted')\n",
    "print(\"Recall: {:.2f}\".format(recall))\n"
   ]
  },
  {
   "cell_type": "markdown",
   "id": "8effb6dd",
   "metadata": {},
   "source": [
    "# Precision:"
   ]
  },
  {
   "cell_type": "code",
   "execution_count": 15,
   "id": "e1322e1a",
   "metadata": {},
   "outputs": [
    {
     "name": "stdout",
     "output_type": "stream",
     "text": [
      "Precision: 1.00\n"
     ]
    }
   ],
   "source": [
    "\n",
    "precision = precision_score(y_test, predictions, average='weighted')\n",
    "print(\"Precision: {:.2f}\".format(precision))\n"
   ]
  },
  {
   "cell_type": "markdown",
   "id": "8a66acc5",
   "metadata": {},
   "source": [
    "# Standard Deviation:"
   ]
  },
  {
   "cell_type": "code",
   "execution_count": 16,
   "id": "9ca4ca85",
   "metadata": {},
   "outputs": [
    {
     "name": "stdout",
     "output_type": "stream",
     "text": [
      "Standard Deviation of Target Column: 1.12\n"
     ]
    }
   ],
   "source": [
    "\n",
    "std_dev_target = df['label'].std()\n",
    "print(\"Standard Deviation of Target Column: {:.2f}\".format(std_dev_target))\n"
   ]
  },
  {
   "cell_type": "markdown",
   "id": "037c47ed",
   "metadata": {},
   "source": [
    "# Mean:"
   ]
  },
  {
   "cell_type": "code",
   "execution_count": 17,
   "id": "151b500f",
   "metadata": {},
   "outputs": [
    {
     "name": "stdout",
     "output_type": "stream",
     "text": [
      "Mean: 1.50\n",
      "ax         576.232067\n",
      "ay       11162.512336\n",
      "az        5555.551879\n",
      "gx        -617.761698\n",
      "gy         322.575884\n",
      "gz          73.514931\n",
      "label        1.500024\n",
      "dtype: float64\n"
     ]
    }
   ],
   "source": [
    "\n",
    "mean_value = df['label'].mean()\n",
    "print(\"Mean: {:.2f}\".format(mean_value))\n",
    "mean_values = df.mean()\n",
    "print(mean_values)\n"
   ]
  },
  {
   "cell_type": "markdown",
   "id": "cf01d457",
   "metadata": {},
   "source": [
    "# Average:"
   ]
  },
  {
   "cell_type": "code",
   "execution_count": 18,
   "id": "60b20ca7",
   "metadata": {},
   "outputs": [
    {
     "name": "stdout",
     "output_type": "stream",
     "text": [
      "Average: 1.50\n",
      "ax         576.232067\n",
      "ay       11162.512336\n",
      "az        5555.551879\n",
      "gx        -617.761698\n",
      "gy         322.575884\n",
      "gz          73.514931\n",
      "label        1.500024\n",
      "dtype: float64\n"
     ]
    }
   ],
   "source": [
    "\n",
    "average_value = df['label'].mean()\n",
    "print(\"Average: {:.2f}\".format(average_value))\n",
    "average_values = df.mean()\n",
    "print(average_values)\n",
    "\n"
   ]
  },
  {
   "cell_type": "markdown",
   "id": "ce317bb3",
   "metadata": {},
   "source": [
    "# Confusion Matrix:"
   ]
  },
  {
   "cell_type": "code",
   "execution_count": 19,
   "id": "73d3235b",
   "metadata": {},
   "outputs": [
    {
     "name": "stdout",
     "output_type": "stream",
     "text": [
      "Confusion Matrix:\n",
      " [[29925     0    51     0]\n",
      " [    0 29945    66     0]\n",
      " [    4    48 30010     0]\n",
      " [    1     0     0 29950]]\n"
     ]
    }
   ],
   "source": [
    "\n",
    "cm = confusion_matrix(y_test, predictions)\n",
    "print(\"Confusion Matrix:\\n\", cm)\n"
   ]
  },
  {
   "cell_type": "markdown",
   "id": "de2bd1fb",
   "metadata": {},
   "source": [
    "# Ploting Confusion Matrix:"
   ]
  },
  {
   "cell_type": "code",
   "execution_count": 20,
   "id": "6bde6d45",
   "metadata": {},
   "outputs": [
    {
     "data": {
      "image/png": "[encoded data removed]",
      "text/plain": [
       "<Figure size 800x600 with 2 Axes>"
      ]
     },
     "metadata": {},
     "output_type": "display_data"
    }
   ],
   "source": [
    "\n",
    "# Create confusion matrix\n",
    "cm = confusion_matrix(y_test, predictions)\n",
    "\n",
    "# Plot confusion matrix\n",
    "plt.figure(figsize=(8, 6))\n",
    "sns.heatmap(cm, annot=True, fmt=\"d\", cmap=\"Blues\", xticklabels=sorted(y.unique()), yticklabels=sorted(y.unique()))\n",
    "plt.title(\"Confusion Matrix\")\n",
    "plt.xlabel(\"Predicted\")\n",
    "plt.ylabel(\"Actual\")\n",
    "plt.show()\n"
   ]
  },
  {
   "cell_type": "markdown",
   "id": "7f833487",
   "metadata": {},
   "source": [
    "# Predicted Activity:"
   ]
  },
  {
   "cell_type": "code",
   "execution_count": 21,
   "id": "0799c445",
   "metadata": {},
   "outputs": [
    {
     "name": "stdout",
     "output_type": "stream",
     "text": [
      "Predicted Activity: Lying\n"
     ]
    },
    {
     "name": "stderr",
     "output_type": "stream",
     "text": [
      "C:\\ProgramData\\anaconda3\\lib\\site-packages\\sklearn\\base.py:420: UserWarning: X does not have valid feature names, but RandomForestClassifier was fitted with feature names\n",
      "  warnings.warn(\n"
     ]
    }
   ],
   "source": [
    "\n",
    "# Enter actual values data\n",
    "new_data_values = [1912,-1932,15028,-586,-149,93]\n",
    "\n",
    "new_data = pd.DataFrame([new_data_values], columns=['ax', 'ay', 'az', 'gx', 'gy', 'gz'])\n",
    "\n",
    "new_predictions = rf_model.predict(new_data.values.reshape(1, -1))\n",
    "\n",
    "# Map predicted labels to activity names\n",
    "for prediction in new_predictions:\n",
    "    if prediction == 2:\n",
    "        activity_result = \"Walking\"\n",
    "    elif prediction == 3:\n",
    "        activity_result = \"Lying\"\n",
    "    else:\n",
    "        activity_result = \"Invalid\"\n",
    "\n",
    "    print(\"Predicted Activity: {}\".format(activity_result))\n"
   ]
  },
  {
   "cell_type": "code",
   "execution_count": 24,
   "id": "91fdb916",
   "metadata": {},
   "outputs": [],
   "source": [
    "import pickle\n",
    "# Save the trained Random Forest model to a file\n",
    "with open('rf_model_activity.pkl', 'wb') as file:\n",
    "    pickle.dump(rf_model, file)"
   ]
  },
  {
   "cell_type": "code",
   "execution_count": null,
   "id": "248e0545",
   "metadata": {},
   "outputs": [],
   "source": []
  }
 ],
 "metadata": {
  "kernelspec": {
   "display_name": "Python 3 (ipykernel)",
   "language": "python",
   "name": "python3"
  },
  "language_info": {
   "codemirror_mode": {
    "name": "ipython",
    "version": 3
   },
   "file_extension": ".py",
   "mimetype": "text/x-python",
   "name": "python",
   "nbconvert_exporter": "python",
   "pygments_lexer": "ipython3",
   "version": "3.10.9"
  }
 },
 "nbformat": 4,
 "nbformat_minor": 5
}
